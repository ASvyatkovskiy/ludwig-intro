{
 "cells": [
  {
   "cell_type": "markdown",
   "metadata": {},
   "source": [
    "# Timeseries forecasting example\n",
    "\n",
    "Next, we are going to look into timeseries forecasting task. The [official website](https://uber.github.io/ludwig/examples/#time-series-forecasting) mentions that direct timeseries forecasting \n",
    "is experimental in Ludwig, but given the data is properly prepared, it can work.\n",
    "\n",
    "Given some historical timeseries data, one can prepare training sequences as a rolling window of size n with a stride m. Focusing on regression here.\n"
   ]
  },
  {
   "cell_type": "code",
   "execution_count": null,
   "metadata": {},
   "outputs": [],
   "source": []
  }
 ],
 "metadata": {
  "kernelspec": {
   "display_name": "Hello, Ludwig",
   "language": "python",
   "name": "hello-ludwig"
  },
  "language_info": {
   "codemirror_mode": {
    "name": "ipython",
    "version": 3
   },
   "file_extension": ".py",
   "mimetype": "text/x-python",
   "name": "python",
   "nbconvert_exporter": "python",
   "pygments_lexer": "ipython3",
   "version": "3.6.7"
  }
 },
 "nbformat": 4,
 "nbformat_minor": 2
}
